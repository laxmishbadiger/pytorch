{
  "nbformat": 4,
  "nbformat_minor": 0,
  "metadata": {
    "colab": {
      "provenance": [],
      "gpuType": "T4",
      "authorship_tag": "ABX9TyOBtDueCqaHHy5zhQDVduSf",
      "include_colab_link": true
    },
    "kernelspec": {
      "name": "python3",
      "display_name": "Python 3"
    },
    "language_info": {
      "name": "python"
    },
    "accelerator": "GPU"
  },
  "cells": [
    {
      "cell_type": "markdown",
      "metadata": {
        "id": "view-in-github",
        "colab_type": "text"
      },
      "source": [
        "<a href=\"https://colab.research.google.com/github/laxmishbadiger/pytorch/blob/main/pytorch_learning.ipynb\" target=\"_parent\"><img src=\"https://colab.research.google.com/assets/colab-badge.svg\" alt=\"Open In Colab\"/></a>"
      ]
    },
    {
      "cell_type": "code",
      "source": [
        "import torch\n",
        "import numpy as np"
      ],
      "metadata": {
        "id": "CUK13SOxIpbH"
      },
      "execution_count": 22,
      "outputs": []
    },
    {
      "cell_type": "code",
      "source": [],
      "metadata": {
        "id": "-z9G63woKcf3"
      },
      "execution_count": null,
      "outputs": []
    },
    {
      "cell_type": "code",
      "source": [
        "# LISTS"
      ],
      "metadata": {
        "id": "EwPdAoO9Jg4B"
      },
      "execution_count": 7,
      "outputs": []
    },
    {
      "cell_type": "code",
      "source": [
        "my_list = [[1,2,32],[2,3,4,4]]\n",
        "my_list\n"
      ],
      "metadata": {
        "id": "nu6z2yMOLEbo",
        "outputId": "e4598ec7-5f20-452e-8d15-099dd40b11f7",
        "colab": {
          "base_uri": "https://localhost:8080/"
        }
      },
      "execution_count": 11,
      "outputs": [
        {
          "output_type": "execute_result",
          "data": {
            "text/plain": [
              "[[1, 2, 32], [2, 3, 4, 4]]"
            ]
          },
          "metadata": {},
          "execution_count": 11
        }
      ]
    },
    {
      "cell_type": "code",
      "source": [
        "# Numpy Array"
      ],
      "metadata": {
        "id": "JUOCZlVhLk06"
      },
      "execution_count": 12,
      "outputs": []
    },
    {
      "cell_type": "code",
      "source": [
        "nps = np.random.rand(3, 4)\n",
        "nps"
      ],
      "metadata": {
        "id": "ciuaYQe8LzwO",
        "outputId": "502342e8-7a66-46f5-fe52-b3c956530d5a",
        "colab": {
          "base_uri": "https://localhost:8080/"
        }
      },
      "execution_count": 28,
      "outputs": [
        {
          "output_type": "execute_result",
          "data": {
            "text/plain": [
              "array([[0.0313744 , 0.15496676, 0.04040289, 0.41995614],\n",
              "       [0.75036663, 0.0322491 , 0.72641099, 0.04150267],\n",
              "       [0.2095174 , 0.43723959, 0.6022218 , 0.36133481]])"
            ]
          },
          "metadata": {},
          "execution_count": 28
        }
      ]
    },
    {
      "cell_type": "code",
      "source": [
        "nps.dtype"
      ],
      "metadata": {
        "id": "n5ZGR86aNeH2",
        "outputId": "89427c51-57ad-4020-8cef-6a7126c0721a",
        "colab": {
          "base_uri": "https://localhost:8080/"
        }
      },
      "execution_count": 32,
      "outputs": [
        {
          "output_type": "execute_result",
          "data": {
            "text/plain": [
              "dtype('float64')"
            ]
          },
          "metadata": {},
          "execution_count": 32
        }
      ]
    },
    {
      "cell_type": "code",
      "source": [
        "# Tensors"
      ],
      "metadata": {
        "id": "zFKm-9fIL5RD"
      },
      "execution_count": 30,
      "outputs": []
    },
    {
      "cell_type": "code",
      "source": [
        "tensor_2d = torch.randn(3, 4)\n",
        "tensor_2d"
      ],
      "metadata": {
        "id": "yqmKVNyZL6Du",
        "outputId": "920aadfa-7339-4a49-f94d-9b64a4296e81",
        "colab": {
          "base_uri": "https://localhost:8080/"
        }
      },
      "execution_count": 31,
      "outputs": [
        {
          "output_type": "execute_result",
          "data": {
            "text/plain": [
              "tensor([[-0.4307, -0.5382,  1.1905,  0.2128],\n",
              "        [-0.6723,  0.9253, -1.9124,  0.2252],\n",
              "        [-1.0077,  1.5738, -0.3265, -0.1612]])"
            ]
          },
          "metadata": {},
          "execution_count": 31
        }
      ]
    },
    {
      "cell_type": "code",
      "source": [
        "tensor_3d = torch.randn(10,3, 4)\n",
        "tensor_3d\n"
      ],
      "metadata": {
        "id": "Oe5jA--UNQo-",
        "outputId": "539216e5-6732-4842-c1ff-dfb35478da0d",
        "colab": {
          "base_uri": "https://localhost:8080/"
        }
      },
      "execution_count": 40,
      "outputs": [
        {
          "output_type": "execute_result",
          "data": {
            "text/plain": [
              "tensor([[[ 7.8111e-01, -1.7324e+00, -7.7206e-01, -2.3818e+00],\n",
              "         [-1.4016e+00,  1.1157e-01, -1.4324e+00, -1.6501e+00],\n",
              "         [ 5.3913e-01,  1.5758e+00, -7.2668e-03,  8.4478e-01]],\n",
              "\n",
              "        [[ 5.3500e-01, -1.0203e+00, -2.8216e-01, -1.0085e-01],\n",
              "         [-2.7628e-01,  2.0291e-01,  3.0220e-01,  7.2007e-01],\n",
              "         [-4.3196e-03,  1.1000e-01, -4.3030e-01,  1.1507e-01]],\n",
              "\n",
              "        [[ 4.9633e-01,  8.1350e-01,  4.3038e-01, -2.9115e-01],\n",
              "         [ 6.5554e-03,  1.1120e+00, -2.7174e-01, -2.1030e-01],\n",
              "         [-2.0656e+00,  1.3232e-01, -5.0616e-02,  1.4015e-01]],\n",
              "\n",
              "        [[-1.0395e+00,  1.1303e+00, -1.0378e-01, -5.2458e-01],\n",
              "         [-1.0950e+00,  7.2471e-01,  1.4068e+00, -4.5671e-01],\n",
              "         [ 3.3127e-04,  4.4504e-01,  2.1146e+00, -1.2849e+00]],\n",
              "\n",
              "        [[-3.9989e-01, -4.2529e-01,  7.9545e-01,  1.9320e+00],\n",
              "         [ 9.0258e-01, -1.8728e-02,  5.5578e-01, -5.7063e-01],\n",
              "         [ 1.1904e+00, -5.4840e-01, -5.7739e-01,  8.9306e-01]],\n",
              "\n",
              "        [[-3.0258e-01,  1.4772e+00,  6.9144e-01,  1.3820e+00],\n",
              "         [-6.1920e-02,  3.2309e-01,  1.0230e+00, -1.4296e+00],\n",
              "         [-5.9342e-02,  1.1386e+00, -1.5291e+00, -6.6942e-01]],\n",
              "\n",
              "        [[ 9.8139e-01, -5.8248e-01, -8.4329e-01,  6.4239e-01],\n",
              "         [-4.4041e-01,  1.6945e+00,  1.7056e-01,  1.3242e+00],\n",
              "         [ 2.1575e-01, -1.8462e+00,  6.2395e-01, -1.1199e+00]],\n",
              "\n",
              "        [[ 7.1162e-01, -1.2187e+00,  1.8326e+00, -3.9807e-01],\n",
              "         [ 8.1382e-02,  2.8572e-02, -3.6234e-01, -3.3018e-01],\n",
              "         [-8.7053e-01, -2.3643e-02,  3.2852e-01,  4.7620e-01]],\n",
              "\n",
              "        [[ 4.7278e-01, -6.9791e-01, -2.0086e+00,  5.3688e-01],\n",
              "         [-8.0358e-01, -1.3333e+00,  2.8042e-01,  8.4522e-02],\n",
              "         [ 4.1776e-01,  2.2337e-01,  7.3434e-01,  2.2868e+00]],\n",
              "\n",
              "        [[-5.2381e-01, -1.5039e+00, -2.0771e-02,  8.1023e-01],\n",
              "         [-3.7120e-01,  2.0328e+00,  1.2527e+00, -1.2822e+00],\n",
              "         [-1.2757e+00, -1.8025e+00,  1.6501e-01, -4.3385e-01]]])"
            ]
          },
          "metadata": {},
          "execution_count": 40
        }
      ]
    },
    {
      "cell_type": "code",
      "source": [
        "print(tensor_3d.dtype)"
      ],
      "metadata": {
        "id": "UkPMZ2xmOQHX",
        "outputId": "4f47c3c1-e6ba-48a3-a7da-4e3e671bdc72",
        "colab": {
          "base_uri": "https://localhost:8080/"
        }
      },
      "execution_count": 41,
      "outputs": [
        {
          "output_type": "stream",
          "name": "stdout",
          "text": [
            "torch.float32\n"
          ]
        }
      ]
    },
    {
      "cell_type": "code",
      "source": [
        "# Numpy array to tensor array"
      ],
      "metadata": {
        "id": "O3rlV4coNla5"
      },
      "execution_count": 42,
      "outputs": []
    },
    {
      "cell_type": "code",
      "source": [
        "my_tensor =  torch.tensor(nps)\n",
        "my_tensor"
      ],
      "metadata": {
        "id": "0aiNe_6tN2K_",
        "outputId": "00dc6020-0120-4cc4-af26-f019cfcf8f27",
        "colab": {
          "base_uri": "https://localhost:8080/"
        }
      },
      "execution_count": 38,
      "outputs": [
        {
          "output_type": "execute_result",
          "data": {
            "text/plain": [
              "tensor([[0.0314, 0.1550, 0.0404, 0.4200],\n",
              "        [0.7504, 0.0322, 0.7264, 0.0415],\n",
              "        [0.2095, 0.4372, 0.6022, 0.3613]], dtype=torch.float64)"
            ]
          },
          "metadata": {},
          "execution_count": 38
        }
      ]
    },
    {
      "cell_type": "code",
      "source": [],
      "metadata": {
        "id": "bQFhMHIjOCWD"
      },
      "execution_count": null,
      "outputs": []
    }
  ]
}